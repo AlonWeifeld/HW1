{
 "cells": [
  {
   "cell_type": "markdown",
   "id": "a25f0c0d",
   "metadata": {},
   "source": [
    "## EX1\n",
    "Alon Weisfeld\n",
    "308353994"
   ]
  },
  {
   "cell_type": "markdown",
   "id": "841885b4",
   "metadata": {},
   "source": [
    "# A"
   ]
  },
  {
   "cell_type": "code",
   "execution_count": 1,
   "id": "f602d3cb",
   "metadata": {},
   "outputs": [
    {
     "name": "stdout",
     "output_type": "stream",
     "text": [
      "please incert first num: 10\n",
      "please incert second num: 20\n",
      "please incert third num: 3\n"
     ]
    },
    {
     "data": {
      "text/plain": [
       "69.0"
      ]
     },
     "execution_count": 1,
     "metadata": {},
     "output_type": "execute_result"
    }
   ],
   "source": [
    "def my_func():\n",
    "    x1= input(\"please incert first num: \")\n",
    "    try:\n",
    "        x1=int(x1)\n",
    "    except:\n",
    "        print(\"Please incert num only\")\n",
    "    x2= input(\"please incert second num: \")\n",
    "    try:\n",
    "        x2=int(x2)\n",
    "    except:\n",
    "        print(\"Please incert num only\")\n",
    "    x3= input(\"please incert third num: \")\n",
    "    try:\n",
    "        x3=int(x3)\n",
    "    except:\n",
    "        print(\"Please incert num\")\n",
    "    answer= ((x1+x2+x3)*(x2+x3)*x3)/(x1+x2+x3)\n",
    "    if answer == str(answer):\n",
    "        print (\"Somthing went worng, please try again\")\n",
    "    else:\n",
    "        return(answer)\n",
    "    \n",
    "    \n",
    "    \n",
    "my_func()"
   ]
  },
  {
   "cell_type": "code",
   "execution_count": null,
   "id": "282708fd",
   "metadata": {},
   "outputs": [],
   "source": []
  },
  {
   "cell_type": "markdown",
   "id": "f58cd842",
   "metadata": {},
   "source": [
    "## B"
   ]
  },
  {
   "cell_type": "code",
   "execution_count": 16,
   "id": "68549805",
   "metadata": {},
   "outputs": [
    {
     "name": "stdout",
     "output_type": "stream",
     "text": [
      "please incert num of hours: 2\n",
      "please incert num of minutes: 1\n",
      "7260.0\n"
     ]
    }
   ],
   "source": [
    "def convert(hours, minutes):\n",
    "    hours= input(\"please incert num of hours: \")\n",
    "    try:\n",
    "        hours=float(hours)\n",
    "        if hours <0:\n",
    "            print(\"Input error!\")\n",
    "    except:\n",
    "        print(\"Please incert num only\")\n",
    "    minutes= input(\"please incert num of minutes: \")\n",
    "    try:\n",
    "        minutes=float(minutes)\n",
    "    except:\n",
    "        print(\"Please incert num only\")\n",
    "    answer_2= ((hours*60*60)+(minutes*60))\n",
    "    print(answer_2)\n",
    "    \n",
    "convert(2,1)      "
   ]
  },
  {
   "cell_type": "code",
   "execution_count": null,
   "id": "8a420ce4",
   "metadata": {},
   "outputs": [],
   "source": []
  },
  {
   "cell_type": "code",
   "execution_count": null,
   "id": "e5c6acce",
   "metadata": {},
   "outputs": [],
   "source": []
  }
 ],
 "metadata": {
  "kernelspec": {
   "display_name": "Python 3 (ipykernel)",
   "language": "python",
   "name": "python3"
  },
  "language_info": {
   "codemirror_mode": {
    "name": "ipython",
    "version": 3
   },
   "file_extension": ".py",
   "mimetype": "text/x-python",
   "name": "python",
   "nbconvert_exporter": "python",
   "pygments_lexer": "ipython3",
   "version": "3.9.6"
  }
 },
 "nbformat": 4,
 "nbformat_minor": 5
}
